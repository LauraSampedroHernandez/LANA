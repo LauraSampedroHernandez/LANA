{
 "cells": [
  {
   "cell_type": "markdown",
   "metadata": {},
   "source": [
    "## Conclusiones del estudio:\n",
    "\n",
    "**1. EDA**:\n",
    "\n",
    "    1. Se observa una dependencia entre la tasa de fraude y los valores que toman las siguientes variables: \"Card\", \"Amount\", \"Use Chip\", \"Merchant State\" y \"MCC\"\n",
    "        \n",
    "    2.- El anáisis de la variable \"Merchant State\" indica que:\n",
    "        * Los países Fiji, Tuvalu, Algeria, Haiti, Nigeria, Turkey, Italy, Japan, Mexico y la India son los que tienen las mayores tasas de impago. Se desaconseja por tanto la inversión en estos países. \n",
    "        * El resto de los países tienen una tasa de fraude nula. Sin embargo, para la gran mayoría de estos países, los datos presentes en la base de datos no son muy elevados, del orden de unos pocos cientos de transaciones por cada pais. \n",
    "        * Por estos dos puntos anteriores, no se considerarán todos estos países que, por otro lado, solo representan el  12.78% de la base de datos. Expresado de otra manera, nos centraremos en los estados de EEUU que representan el 87% de los datos de la base de datos.\n",
    "        * Si se quiere invertir en países que no sean EEUU, se desaconseja la inversión en los países previamente mencionados. \n",
    "        * Existen 16 estados de EEUU con una tasa de fraude superior a la media de EEUU. Estos estados son: OH, AK, HI, WY, NE, MT, CA, TN, OR, MI, OK, NJ, MO, WA, VA, NM.\n",
    "    \n",
    "\n",
    "**2. Feature Engineering**:\n",
    "\n",
    "    1. Se han aplicado técnicas de Machine Learning para la clasterización de las variables (MCC).\n",
    "\n",
    "    2. El test de Kolmogorov-Smirnov muestra que las variables con mayor poder discriminatorio entre poblaciones (alto KS) son: \"Amount FE\" y \"Use Chip FE\". Durante el entrenamiento del modelo de fraude, estas dos variables también resultan ser las más importantes para el modelo. \n",
    "    \n",
    "    3. Se ha creado una Pipeline de transformación que permite poner el modelo en producción, transformando las variables categóricas automáticamente.\n",
    "    \n",
    "\n",
    "**3. Modelo de Fraude**:\n",
    "    \n",
    "    1. Se ha usado un **Random Forest Classifier** porque permite definir pesos estadísticos para entrenar mejor muestras desbalanceadas como es el caso de la base de datos. \n",
    "    \n",
    "    2. Se ha observado que las variables más importantes en la estimación de fraude serían \"Amount FE\" y \"Use Chip FE\", siendo la menos importante la variable \"Card\".\n",
    "    \n",
    "    3. Los valores de la métrica accuracy (acc) obtenidos por el modelo, son muy elevados para las tres muestras. Es un resultado esperado dado que el grado de desbalanceamiento de los datos es muy elevado, y esta métrica es más sensible hacia la clase dominante en los datos. \n",
    "    \n",
    "    4. Se observa tanto un valor elevado en la métrica roc-auc (lo que indica una buena clasificación) como unas distribuciones similares para las 3 muestras (Train, OOS, OOT). Este hecho le confiere al modelo una \"estabilidad temporal\", que permite asegurar que, cuando entre en funcionamiento, continuará funcionando con la misma calidad que observamos en los periodos de entrenamiento.\n",
    "  \n",
    "    5. Se observa una clara discriminación de fraude. Esto permite identificar grupos con alta concentración de fraude y eliminarlos de nuestra actividad comercial. \n",
    "\n",
    "    6. Los valores observados de KS, para las tres muestras, muestran que el modelo tiene una alta capacidad discriminante entre públicos (Fraude y No Fraude). Como además muestran valores similares, el modelo tiene una alta estabilidad.\n",
    "    \n",
    "    7. Se observa que el modelo tiene una alta capacidad de segmentar clientes con altas tasas de fraude (bin = 5). De la misma forma, identifica grupos de clientes con tasas de fraude menores a la tasa promedio (bin = 1, 2, 3, 4). Este resultado es importante puesto que permite identificar (y eliminar) grupos de alto riesgo. \n",
    "    \n",
    "    8. La segmentación realizada por el modelo entre públicos es más asertiva que la utilización de una variable individual para separar buenos de malos clientes.\n",
    "    \n",
    "    \n",
    "**4. Forecasting: Oportunidades Comerciales**:\n",
    "\n",
    "    1. El modelo de forecasting permite conocer qué estados presentarán un mayor número de transacciones con una menor tasa de fraude. Este estudio es, por tanto, muy interesante para inversiones de capital futuras. \n",
    "    \n",
    "    2. Para ello se ha aplicado a todos los estados de EEUU, un modelo sencillo de SARIMAX obteniendo buenos resultados en 50 de los 52 estados de EEUU. FL y AZ requieren de un estudio mayor de los parámetros del modelo SARIMAX aplicado. \n",
    "    \n",
    "    3. Este estudio ha permitido conocer los 10 estados más lucrativos a partir de la definición de una Figura de Mérito (FoM). Así, los estados con un mayor número de transacciones esperadas y una menor tasa de fraude son: CA, MN, IL, AK, NJ, NV, MI, HI, TX y NY.\n",
    "\n",
    "\n",
    "**Conclusión general**.\n",
    "\n",
    "El análisis exploratorio de los datos permite identificar zonas con mayor o menor tasa de fraude. Además, la creación de un modelo de fraude estadístico permite, precisamente, ir más allá, centrándose no únicamente en una determinada región si no, además, en las características de la transacción realizada (o del cliente en particular). Esto hecho nos permite poder hacer inversiones seguras incluso en areas donde la tasa de fraude es más elevada y que, un análisis exploratorio, podría llevar a desconsiderar dicha región. Si se añade el estudio de forecasting, el estudio final nos permite, además, investigar dónde realizar inversiones de capital futuras. El conocer las areas donde hay un mayor número de transacciones esperadas y una menor tasa de fraude, incrementaría los beneficios obtenidos por la empresa así como la inversión de capital en areas que serán, en un futuro, más rentables. "
   ]
  },
  {
   "cell_type": "code",
   "execution_count": null,
   "metadata": {},
   "outputs": [],
   "source": []
  }
 ],
 "metadata": {
  "kernelspec": {
   "display_name": "Python 3",
   "language": "python",
   "name": "python3"
  },
  "language_info": {
   "codemirror_mode": {
    "name": "ipython",
    "version": 3
   },
   "file_extension": ".py",
   "mimetype": "text/x-python",
   "name": "python",
   "nbconvert_exporter": "python",
   "pygments_lexer": "ipython3",
   "version": "3.7.6"
  }
 },
 "nbformat": 4,
 "nbformat_minor": 4
}
