{
 "cells": [
  {
   "cell_type": "markdown",
   "metadata": {},
   "source": [
    "### Notebook con la tratamiento y selección de las variables que usará el modelo. "
   ]
  },
  {
   "cell_type": "markdown",
   "metadata": {},
   "source": [
    "#### Importando librerías "
   ]
  },
  {
   "cell_type": "code",
   "execution_count": 1,
   "metadata": {},
   "outputs": [],
   "source": [
    "import pandas as pd\n",
    "import numpy as np\n",
    "import matplotlib.pyplot as plt\n",
    "import seaborn as sns\n",
    "from scipy import stats\n",
    "\n",
    "from sklearn.model_selection import train_test_split\n",
    "from sklearn.cluster import KMeans\n",
    "\n",
    "import pickle\n",
    "\n",
    "from sklearn.pipeline import Pipeline \n",
    "from sklearn.preprocessing import KBinsDiscretizer, StandardScaler\n",
    "#from sklearn.impute import SimpleImputer\n",
    "from sklearn.compose import ColumnTransformer\n",
    "from sklearn.impute import SimpleImputer\n",
    "import transformer\n",
    "from transformer import MCC_encoder, MerchantStateEncoder, UseChipEncoder\n",
    "\n",
    "\n",
    "\n",
    "\n",
    "pd.options.display.max_columns = None\n",
    "pd.options.display.max_rows = None\n",
    "import warnings\n",
    "warnings.simplefilter(action=\"ignore\", category=FutureWarning)"
   ]
  },
  {
   "cell_type": "markdown",
   "metadata": {},
   "source": [
    "#### Lectura de la base de datos.\n",
    "\n",
    "El Análisis Exploratorio de los Datos (EDA) indica que las variables relevantes para la creación del modelo de fraude son: **'Card', 'Amount', 'Use Chip', 'Merchant State' y 'MCC'**. Se incluyen además **'Year', 'Month' y 'Is Fraud?'** al ser variables necesarias para el modelo de fraude y para el posterior estudio de forecasting. "
   ]
  },
  {
   "cell_type": "code",
   "execution_count": 2,
   "metadata": {},
   "outputs": [],
   "source": [
    "df = pd.read_csv('/Users/mac/Desktop/DataScience/LANA/credit_card_transactions-ibm_v2.csv', \n",
    "                usecols=['Card', 'Year', 'Month', 'Amount', 'Use Chip', 'Merchant State', \n",
    "                         'MCC', 'Is Fraud?'])"
   ]
  },
  {
   "cell_type": "markdown",
   "metadata": {},
   "source": [
    "#### Selección de los datos de los últimos cinco años.\n",
    "\n",
    "Se considera que un estudio que englobe los últimos 5 años, puede aportar la estabilidad necesaria en el estudio."
   ]
  },
  {
   "cell_type": "code",
   "execution_count": 3,
   "metadata": {},
   "outputs": [],
   "source": [
    "df = df.query(\"Year >= 2015\")"
   ]
  },
  {
   "cell_type": "markdown",
   "metadata": {},
   "source": [
    "#### Transformación de las variables categóricas Amount, Use Chip, Merchant State y Is Fraud? a numéricas."
   ]
  },
  {
   "cell_type": "markdown",
   "metadata": {},
   "source": [
    "#### * Is Fraud?"
   ]
  },
  {
   "cell_type": "code",
   "execution_count": 4,
   "metadata": {},
   "outputs": [
    {
     "data": {
      "text/plain": [
       "0    0.998688\n",
       "1    0.001312\n",
       "Name: target, dtype: float64"
      ]
     },
     "execution_count": 4,
     "metadata": {},
     "output_type": "execute_result"
    }
   ],
   "source": [
    "df['target'] = np.where(df['Is Fraud?'] == 'No', 0, 1)\n",
    "df['target'].value_counts(normalize=1)"
   ]
  },
  {
   "cell_type": "markdown",
   "metadata": {},
   "source": [
    "#### * Amount"
   ]
  },
  {
   "cell_type": "code",
   "execution_count": 5,
   "metadata": {},
   "outputs": [],
   "source": [
    "def trim_dollar_sign(x):\n",
    "    return str(x)[1:]\n",
    "\n",
    "df['Amount'] = df['Amount'].apply(trim_dollar_sign)\n",
    "df['Amount'] = df['Amount'].astype(float)"
   ]
  },
  {
   "cell_type": "code",
   "execution_count": 6,
   "metadata": {},
   "outputs": [
    {
     "data": {
      "image/png": "[encoded data removed]",
      "text/plain": [
       "<Figure size 720x360 with 1 Axes>"
      ]
     },
     "metadata": {
      "needs_background": "light"
     },
     "output_type": "display_data"
    }
   ],
   "source": [
    "plt.figure(figsize = (10,5))\n",
    "sns.distplot(df['Amount'], kde=False, norm_hist = True)\n",
    "plt.grid()"
   ]
  },
  {
   "cell_type": "markdown",
   "metadata": {},
   "source": [
    "Dado que \"Amount\" toma valores negativos para unas 436744 transacciones y, a falta de una mayor información, estos valores no tienen sentido, y son eliminados de la base de datos. Como se ha comentado en el Jupyter-Notebook de EDA, será en la Pipeline de transformación de datos donde se procederá a la agrupación de esta variable. "
   ]
  },
  {
   "cell_type": "code",
   "execution_count": 7,
   "metadata": {},
   "outputs": [],
   "source": [
    "df = df[df['Amount']>0]"
   ]
  },
  {
   "cell_type": "markdown",
   "metadata": {},
   "source": [
    "#### * Merchant State "
   ]
  },
  {
   "cell_type": "markdown",
   "metadata": {},
   "source": [
    "+ Como está explicado en el Jupyter-Notebook del EDA, vamos a seleccionar los estados de EEUU para hacer este estudio, al no presentar suficientes datos para poder extener el estudio a otros paises. Esta muestra representa el 88% de las transacciones presentes en la base de datos. \n",
    "+ Cabe indicar que, en cualquier caso, se desanconseja la inversión en los siguientes paises: **Fiji, Tuvalu, Algeria, Haiti, Nigeria, Turkey, Italy, Japan, Mexico y la India**"
   ]
  },
  {
   "cell_type": "code",
   "execution_count": 8,
   "metadata": {},
   "outputs": [
    {
     "name": "stdout",
     "output_type": "stream",
     "text": [
      "1    7313559\n",
      "0    1165405\n",
      "Name: USMerchantState, dtype: int64\n"
     ]
    }
   ],
   "source": [
    "# Selección de los estados de EEUU:\n",
    "\n",
    "def lenth_states(x):\n",
    "    return len(x)\n",
    "\n",
    "df['length_MerchantState'] = df['Merchant State'].astype(str).apply(lenth_states)\n",
    "\n",
    "df['USMerchantState'] = 0\n",
    "df.loc[df.query(\"length_MerchantState == 2\").index, 'USMerchantState'] = 1\n",
    "print(df['USMerchantState'].value_counts())\n",
    "\n",
    "\n",
    "df = df[df['USMerchantState']== 1]"
   ]
  },
  {
   "cell_type": "markdown",
   "metadata": {},
   "source": [
    "#### * MCC ( Merchant category code)\n",
    "\n",
    "Distribución de la tasa de fraude para MCC"
   ]
  },
  {
   "cell_type": "code",
   "execution_count": 9,
   "metadata": {},
   "outputs": [
    {
     "data": {
      "image/png": "[encoded data removed]",
      "text/plain": [
       "<Figure size 1080x216 with 1 Axes>"
      ]
     },
     "metadata": {
      "needs_background": "light"
     },
     "output_type": "display_data"
    }
   ],
   "source": [
    "feature = 'MCC'\n",
    "\n",
    "df_temp = pd.DataFrame()\n",
    "df_temp['mean_target'] = df.groupby(feature)['target'].mean()\n",
    "df_temp['norm_mean_target'] = df.groupby(feature)['target'].mean()/df['target'].mean()\n",
    "df_temp['n_counts'] = df.groupby(feature)['target'].count()\n",
    "df_temp.sort_values(by='norm_mean_target', ascending=False, inplace=True)\n",
    "\n",
    "plt.figure(figsize=(16,6))\n",
    "df_temp.norm_mean_target.head(50).plot.bar(figsize=(15,3))\n",
    "plt.grid()\n",
    "plt.xlabel('MCC')\n",
    "plt.ylabel('log(#)')\n",
    "plt.yscale('log')\n"
   ]
  },
  {
   "cell_type": "markdown",
   "metadata": {},
   "source": [
    "Dada la alta cardinalidad de esta variable, se procede a agruparla. Para determinar el número de grupos, se aplica la técnica del 'Elbow':"
   ]
  },
  {
   "cell_type": "code",
   "execution_count": 10,
   "metadata": {},
   "outputs": [
    {
     "name": "stderr",
     "output_type": "stream",
     "text": [
      "/Users/mac/opt/anaconda3/lib/python3.7/site-packages/ipykernel_launcher.py:5: SettingWithCopyWarning: \n",
      "A value is trying to be set on a copy of a slice from a DataFrame.\n",
      "Try using .loc[row_indexer,col_indexer] = value instead\n",
      "\n",
      "See the caveats in the documentation: https://pandas.pydata.org/pandas-docs/stable/user_guide/indexing.html#returning-a-view-versus-a-copy\n",
      "  \"\"\"\n",
      "/Users/mac/opt/anaconda3/lib/python3.7/site-packages/ipykernel_launcher.py:5: SettingWithCopyWarning: \n",
      "A value is trying to be set on a copy of a slice from a DataFrame.\n",
      "Try using .loc[row_indexer,col_indexer] = value instead\n",
      "\n",
      "See the caveats in the documentation: https://pandas.pydata.org/pandas-docs/stable/user_guide/indexing.html#returning-a-view-versus-a-copy\n",
      "  \"\"\"\n",
      "/Users/mac/opt/anaconda3/lib/python3.7/site-packages/ipykernel_launcher.py:5: SettingWithCopyWarning: \n",
      "A value is trying to be set on a copy of a slice from a DataFrame.\n",
      "Try using .loc[row_indexer,col_indexer] = value instead\n",
      "\n",
      "See the caveats in the documentation: https://pandas.pydata.org/pandas-docs/stable/user_guide/indexing.html#returning-a-view-versus-a-copy\n",
      "  \"\"\"\n",
      "/Users/mac/opt/anaconda3/lib/python3.7/site-packages/ipykernel_launcher.py:5: SettingWithCopyWarning: \n",
      "A value is trying to be set on a copy of a slice from a DataFrame.\n",
      "Try using .loc[row_indexer,col_indexer] = value instead\n",
      "\n",
      "See the caveats in the documentation: https://pandas.pydata.org/pandas-docs/stable/user_guide/indexing.html#returning-a-view-versus-a-copy\n",
      "  \"\"\"\n",
      "/Users/mac/opt/anaconda3/lib/python3.7/site-packages/ipykernel_launcher.py:5: SettingWithCopyWarning: \n",
      "A value is trying to be set on a copy of a slice from a DataFrame.\n",
      "Try using .loc[row_indexer,col_indexer] = value instead\n",
      "\n",
      "See the caveats in the documentation: https://pandas.pydata.org/pandas-docs/stable/user_guide/indexing.html#returning-a-view-versus-a-copy\n",
      "  \"\"\"\n",
      "/Users/mac/opt/anaconda3/lib/python3.7/site-packages/ipykernel_launcher.py:5: SettingWithCopyWarning: \n",
      "A value is trying to be set on a copy of a slice from a DataFrame.\n",
      "Try using .loc[row_indexer,col_indexer] = value instead\n",
      "\n",
      "See the caveats in the documentation: https://pandas.pydata.org/pandas-docs/stable/user_guide/indexing.html#returning-a-view-versus-a-copy\n",
      "  \"\"\"\n",
      "/Users/mac/opt/anaconda3/lib/python3.7/site-packages/ipykernel_launcher.py:5: SettingWithCopyWarning: \n",
      "A value is trying to be set on a copy of a slice from a DataFrame.\n",
      "Try using .loc[row_indexer,col_indexer] = value instead\n",
      "\n",
      "See the caveats in the documentation: https://pandas.pydata.org/pandas-docs/stable/user_guide/indexing.html#returning-a-view-versus-a-copy\n",
      "  \"\"\"\n",
      "/Users/mac/opt/anaconda3/lib/python3.7/site-packages/ipykernel_launcher.py:5: SettingWithCopyWarning: \n",
      "A value is trying to be set on a copy of a slice from a DataFrame.\n",
      "Try using .loc[row_indexer,col_indexer] = value instead\n",
      "\n",
      "See the caveats in the documentation: https://pandas.pydata.org/pandas-docs/stable/user_guide/indexing.html#returning-a-view-versus-a-copy\n",
      "  \"\"\"\n",
      "/Users/mac/opt/anaconda3/lib/python3.7/site-packages/ipykernel_launcher.py:5: SettingWithCopyWarning: \n",
      "A value is trying to be set on a copy of a slice from a DataFrame.\n",
      "Try using .loc[row_indexer,col_indexer] = value instead\n",
      "\n",
      "See the caveats in the documentation: https://pandas.pydata.org/pandas-docs/stable/user_guide/indexing.html#returning-a-view-versus-a-copy\n",
      "  \"\"\"\n"
     ]
    },
    {
     "data": {
      "image/png": "[encoded data removed]",
      "text/plain": [
       "<Figure size 864x432 with 1 Axes>"
      ]
     },
     "metadata": {
      "needs_background": "light"
     },
     "output_type": "display_data"
    }
   ],
   "source": [
    "sse={} # sum of the squared errors.\n",
    "feat = df_temp[['norm_mean_target']]\n",
    "for k in range(1, 10):\n",
    "    kmeans = KMeans(n_clusters=k, max_iter=1000).fit(feat)\n",
    "    feat[\"clusters\"] = kmeans.labels_\n",
    "    sse[k] = kmeans.inertia_ \n",
    "\n",
    "plt.figure(figsize=(12,6))\n",
    "plt.plot(list(sse.keys()), list(sse.values()))\n",
    "plt.xlabel(\"Number of cluster\")\n",
    "plt.grid()"
   ]
  },
  {
   "cell_type": "markdown",
   "metadata": {},
   "source": [
    "#### RESULTADO:\n",
    "\n",
    "+ A partir de un número de grupos igual a 3, los errores se estabilizan. Por tanto, se agrupará esta variable en 3 grupos:"
   ]
  },
  {
   "cell_type": "code",
   "execution_count": 11,
   "metadata": {},
   "outputs": [
    {
     "name": "stdout",
     "output_type": "stream",
     "text": [
      "Cluster\n",
      "0    0.000155\n",
      "2    0.004930\n",
      "1    0.039394\n",
      "Name: mean_target, dtype: float64\n"
     ]
    }
   ],
   "source": [
    "kmeans = KMeans(n_clusters=3)\n",
    "kmeans.fit(df_temp[['norm_mean_target']])\n",
    "df_temp['Cluster'] = kmeans.predict(df_temp[['norm_mean_target']])\n",
    "\n",
    "print(df_temp.groupby('Cluster')['mean_target'].mean().sort_values(ascending=True))"
   ]
  },
  {
   "cell_type": "markdown",
   "metadata": {},
   "source": [
    "#### Definición del diccionario"
   ]
  },
  {
   "cell_type": "code",
   "execution_count": 12,
   "metadata": {},
   "outputs": [
    {
     "data": {
      "text/html": [
       "<div>\n",
       "<style scoped>\n",
       "    .dataframe tbody tr th:only-of-type {\n",
       "        vertical-align: middle;\n",
       "    }\n",
       "\n",
       "    .dataframe tbody tr th {\n",
       "        vertical-align: top;\n",
       "    }\n",
       "\n",
       "    .dataframe thead th {\n",
       "        text-align: right;\n",
       "    }\n",
       "</style>\n",
       "<table border=\"1\" class=\"dataframe\">\n",
       "  <thead>\n",
       "    <tr style=\"text-align: right;\">\n",
       "      <th></th>\n",
       "      <th>mean_target</th>\n",
       "      <th>norm_mean_target</th>\n",
       "      <th>n_counts</th>\n",
       "      <th>Cluster</th>\n",
       "    </tr>\n",
       "  </thead>\n",
       "  <tbody>\n",
       "    <tr>\n",
       "      <th>5733</th>\n",
       "      <td>0.045455</td>\n",
       "      <td>322.438894</td>\n",
       "      <td>132</td>\n",
       "      <td>2</td>\n",
       "    </tr>\n",
       "    <tr>\n",
       "      <th>5722</th>\n",
       "      <td>0.033333</td>\n",
       "      <td>236.455189</td>\n",
       "      <td>210</td>\n",
       "      <td>2</td>\n",
       "    </tr>\n",
       "    <tr>\n",
       "      <th>7996</th>\n",
       "      <td>0.008503</td>\n",
       "      <td>60.320201</td>\n",
       "      <td>3528</td>\n",
       "      <td>1</td>\n",
       "    </tr>\n",
       "    <tr>\n",
       "      <th>5094</th>\n",
       "      <td>0.008022</td>\n",
       "      <td>56.906834</td>\n",
       "      <td>3241</td>\n",
       "      <td>1</td>\n",
       "    </tr>\n",
       "    <tr>\n",
       "      <th>5193</th>\n",
       "      <td>0.006047</td>\n",
       "      <td>42.894365</td>\n",
       "      <td>2646</td>\n",
       "      <td>1</td>\n",
       "    </tr>\n",
       "  </tbody>\n",
       "</table>\n",
       "</div>"
      ],
      "text/plain": [
       "      mean_target  norm_mean_target  n_counts  Cluster\n",
       "5733     0.045455        322.438894       132        2\n",
       "5722     0.033333        236.455189       210        2\n",
       "7996     0.008503         60.320201      3528        1\n",
       "5094     0.008022         56.906834      3241        1\n",
       "5193     0.006047         42.894365      2646        1"
      ]
     },
     "execution_count": 12,
     "metadata": {},
     "output_type": "execute_result"
    }
   ],
   "source": [
    "dict_mcc = {0: 0, 1: 2, 2: 1}\n",
    "df_temp['Cluster'] = df_temp['Cluster'].map(dict_mcc)\n",
    "df_temp.head()"
   ]
  },
  {
   "cell_type": "code",
   "execution_count": 13,
   "metadata": {},
   "outputs": [],
   "source": [
    "df_temp.reset_index(drop=False, inplace=True)\n",
    "dict_mcc = {i: k for i,k in zip(df_temp['index'], df_temp['Cluster'])}\n",
    "df['MCC_Cluster'] = df['MCC'].map(dict_mcc)"
   ]
  },
  {
   "cell_type": "markdown",
   "metadata": {},
   "source": [
    "#### Este diccionario será implementado posteriormente en la Pipeline de transformación en este Jupyter-Notebook. "
   ]
  },
  {
   "cell_type": "code",
   "execution_count": 15,
   "metadata": {},
   "outputs": [
    {
     "data": {
      "text/plain": [
       "array([0, 1, 2])"
      ]
     },
     "execution_count": 15,
     "metadata": {},
     "output_type": "execute_result"
    }
   ],
   "source": [
    "df['MCC_Cluster'].unique()"
   ]
  },
  {
   "cell_type": "code",
   "execution_count": 17,
   "metadata": {},
   "outputs": [
    {
     "data": {
      "text/html": [
       "<div>\n",
       "<style scoped>\n",
       "    .dataframe tbody tr th:only-of-type {\n",
       "        vertical-align: middle;\n",
       "    }\n",
       "\n",
       "    .dataframe tbody tr th {\n",
       "        vertical-align: top;\n",
       "    }\n",
       "\n",
       "    .dataframe thead th {\n",
       "        text-align: right;\n",
       "    }\n",
       "</style>\n",
       "<table border=\"1\" class=\"dataframe\">\n",
       "  <thead>\n",
       "    <tr style=\"text-align: right;\">\n",
       "      <th></th>\n",
       "      <th>Card</th>\n",
       "      <th>Year</th>\n",
       "      <th>Month</th>\n",
       "      <th>Amount</th>\n",
       "      <th>Use Chip</th>\n",
       "      <th>Merchant State</th>\n",
       "      <th>MCC</th>\n",
       "      <th>Is Fraud?</th>\n",
       "      <th>target</th>\n",
       "      <th>length_MerchantState</th>\n",
       "      <th>USMerchantState</th>\n",
       "      <th>MCC_Cluster</th>\n",
       "    </tr>\n",
       "  </thead>\n",
       "  <tbody>\n",
       "    <tr>\n",
       "      <th>3895</th>\n",
       "      <td>0</td>\n",
       "      <td>2015</td>\n",
       "      <td>1</td>\n",
       "      <td>34.99</td>\n",
       "      <td>Chip Transaction</td>\n",
       "      <td>CA</td>\n",
       "      <td>5411</td>\n",
       "      <td>No</td>\n",
       "      <td>0</td>\n",
       "      <td>2</td>\n",
       "      <td>1</td>\n",
       "      <td>0</td>\n",
       "    </tr>\n",
       "    <tr>\n",
       "      <th>3896</th>\n",
       "      <td>0</td>\n",
       "      <td>2015</td>\n",
       "      <td>1</td>\n",
       "      <td>1.67</td>\n",
       "      <td>Chip Transaction</td>\n",
       "      <td>CA</td>\n",
       "      <td>5499</td>\n",
       "      <td>No</td>\n",
       "      <td>0</td>\n",
       "      <td>2</td>\n",
       "      <td>1</td>\n",
       "      <td>0</td>\n",
       "    </tr>\n",
       "    <tr>\n",
       "      <th>3897</th>\n",
       "      <td>0</td>\n",
       "      <td>2015</td>\n",
       "      <td>1</td>\n",
       "      <td>208.96</td>\n",
       "      <td>Chip Transaction</td>\n",
       "      <td>CA</td>\n",
       "      <td>4814</td>\n",
       "      <td>No</td>\n",
       "      <td>0</td>\n",
       "      <td>2</td>\n",
       "      <td>1</td>\n",
       "      <td>0</td>\n",
       "    </tr>\n",
       "  </tbody>\n",
       "</table>\n",
       "</div>"
      ],
      "text/plain": [
       "      Card  Year  Month  Amount          Use Chip Merchant State   MCC  \\\n",
       "3895     0  2015      1   34.99  Chip Transaction             CA  5411   \n",
       "3896     0  2015      1    1.67  Chip Transaction             CA  5499   \n",
       "3897     0  2015      1  208.96  Chip Transaction             CA  4814   \n",
       "\n",
       "     Is Fraud?  target  length_MerchantState  USMerchantState  MCC_Cluster  \n",
       "3895        No       0                     2                1            0  \n",
       "3896        No       0                     2                1            0  \n",
       "3897        No       0                     2                1            0  "
      ]
     },
     "execution_count": 17,
     "metadata": {},
     "output_type": "execute_result"
    }
   ],
   "source": [
    "df.head(3)"
   ]
  },
  {
   "cell_type": "markdown",
   "metadata": {},
   "source": [
    "#### * Use Chip', 'Merchant State'\n",
    "\n",
    "Para poder continuar transformando estas variables de tipo categórico a numérico, necesitamos dividir la muestra. Por eso, esta transformación se hará más adelante."
   ]
  },
  {
   "cell_type": "markdown",
   "metadata": {},
   "source": [
    "#### * Date\n",
    "\n",
    "Vamos a crear esta variable en la base de datos para poder hacer estudios temporales."
   ]
  },
  {
   "cell_type": "code",
   "execution_count": 18,
   "metadata": {},
   "outputs": [
    {
     "data": {
      "image/png": "[encoded data removed]",
      "text/plain": [
       "<Figure size 720x288 with 1 Axes>"
      ]
     },
     "metadata": {
      "needs_background": "light"
     },
     "output_type": "display_data"
    }
   ],
   "source": [
    "df['Date'] = df['Year'].astype('str') + '-' + df['Month'].astype('str') + '-01'\n",
    "\n",
    "df['Date'] = pd.to_datetime(df['Date'], format='%Y-%m-%d')\n",
    "\n",
    "plt.figure(figsize=(10,4))\n",
    "df.groupby('Date')['target'].count().plot()\n",
    "plt.grid()\n",
    "plt.yscale('log')"
   ]
  },
  {
   "cell_type": "markdown",
   "metadata": {},
   "source": [
    "#### Analizamos si hay Missing Data en la base de datos resultante."
   ]
  },
  {
   "cell_type": "code",
   "execution_count": 19,
   "metadata": {
    "scrolled": true
   },
   "outputs": [
    {
     "data": {
      "text/plain": [
       "Card                    0.0\n",
       "Year                    0.0\n",
       "Month                   0.0\n",
       "Amount                  0.0\n",
       "Use Chip                0.0\n",
       "Merchant State          0.0\n",
       "MCC                     0.0\n",
       "Is Fraud?               0.0\n",
       "target                  0.0\n",
       "length_MerchantState    0.0\n",
       "USMerchantState         0.0\n",
       "MCC_Cluster             0.0\n",
       "Date                    0.0\n",
       "dtype: float64"
      ]
     },
     "execution_count": 19,
     "metadata": {},
     "output_type": "execute_result"
    }
   ],
   "source": [
    "df.isnull().mean()"
   ]
  },
  {
   "cell_type": "markdown",
   "metadata": {},
   "source": [
    "#### **Resultado**:\n",
    "No hay datos faltantes, condición necesaria para poder aplicar cualquier modelo."
   ]
  },
  {
   "cell_type": "markdown",
   "metadata": {},
   "source": [
    "#### Eliminamos las columnas que no vamos a usar:"
   ]
  },
  {
   "cell_type": "code",
   "execution_count": 20,
   "metadata": {
    "scrolled": true
   },
   "outputs": [
    {
     "data": {
      "text/plain": [
       "Index(['Card', 'Year', 'Month', 'Amount', 'Use Chip', 'Merchant State', 'MCC',\n",
       "       'Is Fraud?', 'target', 'length_MerchantState', 'USMerchantState',\n",
       "       'MCC_Cluster', 'Date'],\n",
       "      dtype='object')"
      ]
     },
     "execution_count": 20,
     "metadata": {},
     "output_type": "execute_result"
    }
   ],
   "source": [
    "df.columns"
   ]
  },
  {
   "cell_type": "code",
   "execution_count": 21,
   "metadata": {},
   "outputs": [
    {
     "data": {
      "text/html": [
       "<div>\n",
       "<style scoped>\n",
       "    .dataframe tbody tr th:only-of-type {\n",
       "        vertical-align: middle;\n",
       "    }\n",
       "\n",
       "    .dataframe tbody tr th {\n",
       "        vertical-align: top;\n",
       "    }\n",
       "\n",
       "    .dataframe thead th {\n",
       "        text-align: right;\n",
       "    }\n",
       "</style>\n",
       "<table border=\"1\" class=\"dataframe\">\n",
       "  <thead>\n",
       "    <tr style=\"text-align: right;\">\n",
       "      <th></th>\n",
       "      <th>Card</th>\n",
       "      <th>Year</th>\n",
       "      <th>Month</th>\n",
       "      <th>Amount</th>\n",
       "      <th>Use Chip</th>\n",
       "      <th>Merchant State</th>\n",
       "      <th>MCC</th>\n",
       "      <th>target</th>\n",
       "      <th>Date</th>\n",
       "    </tr>\n",
       "  </thead>\n",
       "  <tbody>\n",
       "    <tr>\n",
       "      <th>3895</th>\n",
       "      <td>0</td>\n",
       "      <td>2015</td>\n",
       "      <td>1</td>\n",
       "      <td>34.99</td>\n",
       "      <td>Chip Transaction</td>\n",
       "      <td>CA</td>\n",
       "      <td>5411</td>\n",
       "      <td>0</td>\n",
       "      <td>2015-01-01</td>\n",
       "    </tr>\n",
       "    <tr>\n",
       "      <th>3896</th>\n",
       "      <td>0</td>\n",
       "      <td>2015</td>\n",
       "      <td>1</td>\n",
       "      <td>1.67</td>\n",
       "      <td>Chip Transaction</td>\n",
       "      <td>CA</td>\n",
       "      <td>5499</td>\n",
       "      <td>0</td>\n",
       "      <td>2015-01-01</td>\n",
       "    </tr>\n",
       "    <tr>\n",
       "      <th>3897</th>\n",
       "      <td>0</td>\n",
       "      <td>2015</td>\n",
       "      <td>1</td>\n",
       "      <td>208.96</td>\n",
       "      <td>Chip Transaction</td>\n",
       "      <td>CA</td>\n",
       "      <td>4814</td>\n",
       "      <td>0</td>\n",
       "      <td>2015-01-01</td>\n",
       "    </tr>\n",
       "  </tbody>\n",
       "</table>\n",
       "</div>"
      ],
      "text/plain": [
       "      Card  Year  Month  Amount          Use Chip Merchant State   MCC  \\\n",
       "3895     0  2015      1   34.99  Chip Transaction             CA  5411   \n",
       "3896     0  2015      1    1.67  Chip Transaction             CA  5499   \n",
       "3897     0  2015      1  208.96  Chip Transaction             CA  4814   \n",
       "\n",
       "      target       Date  \n",
       "3895       0 2015-01-01  \n",
       "3896       0 2015-01-01  \n",
       "3897       0 2015-01-01  "
      ]
     },
     "execution_count": 21,
     "metadata": {},
     "output_type": "execute_result"
    }
   ],
   "source": [
    "df.drop(['Is Fraud?', 'length_MerchantState', 'USMerchantState', 'MCC_Cluster'], axis = 1, inplace = True)\n",
    "df.head(3)"
   ]
  },
  {
   "cell_type": "markdown",
   "metadata": {},
   "source": [
    "#####   *Chip, Merchant State"
   ]
  },
  {
   "cell_type": "markdown",
   "metadata": {},
   "source": [
    "Para hacer una buena transformación de las variables, es conveniente separar la muestra en dos grupos: train y test. El primer grupo sirve para definir las transformaciones y el segundo para validar que dichas transformaciones sean válidas para cualquier set de datos."
   ]
  },
  {
   "cell_type": "code",
   "execution_count": 22,
   "metadata": {},
   "outputs": [],
   "source": [
    "frac_test = 0.15\n",
    "#random_number = np.random.randint(1,100)\n",
    "#print(random_number)\n",
    "\n",
    "X_train, X_test, y_train, y_test = train_test_split(df, df, test_size=frac_test, random_state=34)"
   ]
  },
  {
   "cell_type": "code",
   "execution_count": 23,
   "metadata": {
    "scrolled": false
   },
   "outputs": [
    {
     "data": {
      "text/html": [
       "<div>\n",
       "<style scoped>\n",
       "    .dataframe tbody tr th:only-of-type {\n",
       "        vertical-align: middle;\n",
       "    }\n",
       "\n",
       "    .dataframe tbody tr th {\n",
       "        vertical-align: top;\n",
       "    }\n",
       "\n",
       "    .dataframe thead th {\n",
       "        text-align: right;\n",
       "    }\n",
       "</style>\n",
       "<table border=\"1\" class=\"dataframe\">\n",
       "  <thead>\n",
       "    <tr style=\"text-align: right;\">\n",
       "      <th></th>\n",
       "      <th>Card</th>\n",
       "      <th>Year</th>\n",
       "      <th>Month</th>\n",
       "      <th>Amount</th>\n",
       "      <th>Use Chip</th>\n",
       "      <th>Merchant State</th>\n",
       "      <th>MCC</th>\n",
       "      <th>target</th>\n",
       "      <th>Date</th>\n",
       "    </tr>\n",
       "  </thead>\n",
       "  <tbody>\n",
       "    <tr>\n",
       "      <th>11110068</th>\n",
       "      <td>2</td>\n",
       "      <td>2019</td>\n",
       "      <td>1</td>\n",
       "      <td>227.00</td>\n",
       "      <td>Swipe Transaction</td>\n",
       "      <td>IL</td>\n",
       "      <td>3780</td>\n",
       "      <td>0</td>\n",
       "      <td>2019-01-01</td>\n",
       "    </tr>\n",
       "    <tr>\n",
       "      <th>1023430</th>\n",
       "      <td>3</td>\n",
       "      <td>2019</td>\n",
       "      <td>8</td>\n",
       "      <td>1.20</td>\n",
       "      <td>Chip Transaction</td>\n",
       "      <td>AL</td>\n",
       "      <td>5499</td>\n",
       "      <td>0</td>\n",
       "      <td>2019-08-01</td>\n",
       "    </tr>\n",
       "    <tr>\n",
       "      <th>5970974</th>\n",
       "      <td>2</td>\n",
       "      <td>2016</td>\n",
       "      <td>8</td>\n",
       "      <td>88.76</td>\n",
       "      <td>Chip Transaction</td>\n",
       "      <td>CT</td>\n",
       "      <td>5411</td>\n",
       "      <td>0</td>\n",
       "      <td>2016-08-01</td>\n",
       "    </tr>\n",
       "    <tr>\n",
       "      <th>17001120</th>\n",
       "      <td>3</td>\n",
       "      <td>2018</td>\n",
       "      <td>4</td>\n",
       "      <td>1.34</td>\n",
       "      <td>Chip Transaction</td>\n",
       "      <td>OR</td>\n",
       "      <td>5499</td>\n",
       "      <td>0</td>\n",
       "      <td>2018-04-01</td>\n",
       "    </tr>\n",
       "    <tr>\n",
       "      <th>21348204</th>\n",
       "      <td>0</td>\n",
       "      <td>2019</td>\n",
       "      <td>11</td>\n",
       "      <td>5.47</td>\n",
       "      <td>Swipe Transaction</td>\n",
       "      <td>CA</td>\n",
       "      <td>5942</td>\n",
       "      <td>0</td>\n",
       "      <td>2019-11-01</td>\n",
       "    </tr>\n",
       "  </tbody>\n",
       "</table>\n",
       "</div>"
      ],
      "text/plain": [
       "          Card  Year  Month  Amount           Use Chip Merchant State   MCC  \\\n",
       "11110068     2  2019      1  227.00  Swipe Transaction             IL  3780   \n",
       "1023430      3  2019      8    1.20   Chip Transaction             AL  5499   \n",
       "5970974      2  2016      8   88.76   Chip Transaction             CT  5411   \n",
       "17001120     3  2018      4    1.34   Chip Transaction             OR  5499   \n",
       "21348204     0  2019     11    5.47  Swipe Transaction             CA  5942   \n",
       "\n",
       "          target       Date  \n",
       "11110068       0 2019-01-01  \n",
       "1023430        0 2019-08-01  \n",
       "5970974        0 2016-08-01  \n",
       "17001120       0 2018-04-01  \n",
       "21348204       0 2019-11-01  "
      ]
     },
     "execution_count": 23,
     "metadata": {},
     "output_type": "execute_result"
    }
   ],
   "source": [
    "X_train.head()"
   ]
  },
  {
   "cell_type": "markdown",
   "metadata": {},
   "source": [
    "###  Pipeline para la transformación de las variables categóricas \"Use Chip\" y \"Merchant State\":"
   ]
  },
  {
   "cell_type": "code",
   "execution_count": 24,
   "metadata": {},
   "outputs": [],
   "source": [
    "list_features = ['MCC', 'Merchant State', 'Use Chip', 'Amount']\n",
    "\n",
    "\n",
    "# Individual Pipeline Definitions\n",
    "pipeline_mcc = Pipeline([('MCC_encoder', MCC_encoder())])\n",
    "pipeline_merchantstate = Pipeline([('MerchantStateEncoder', MerchantStateEncoder())])\n",
    "pipeline_usechip = Pipeline([('UseChipEncoder', UseChipEncoder())])\n",
    "pipeline_amount = Pipeline([\n",
    "    ('imputer', SimpleImputer(strategy='constant', fill_value=0)),\n",
    "    ('scaler', StandardScaler()),\n",
    "    ('binning', KBinsDiscretizer(n_bins=10, encode='ordinal', strategy='quantile'))\n",
    "    ])\n",
    "\n",
    "\n",
    "\n",
    "# Main Transformer\n",
    "preprocessor = ColumnTransformer(transformers=[\n",
    "    ('pipeline_mcc', pipeline_mcc, ['MCC']),\n",
    "    ('pipeline_merchantstate', pipeline_merchantstate, ['Merchant State']),\n",
    "    ('pipeline_usechip', pipeline_usechip, ['Use Chip']),\n",
    "    ('pipeline_amount', pipeline_amount, ['Amount']),\n",
    "    ], remainder='passthrough', verbose=False)    \n",
    "\n"
   ]
  },
  {
   "cell_type": "markdown",
   "metadata": {},
   "source": [
    "#### Entrenamiento de la Pipeline. Creación de un Pickel para su posterior uso."
   ]
  },
  {
   "cell_type": "code",
   "execution_count": 25,
   "metadata": {},
   "outputs": [
    {
     "name": "stdout",
     "output_type": "stream",
     "text": [
      "   MCC  Merchant State  Use Chip  Amount\n",
      "0  1.0            10.0       2.0     9.0\n",
      "1  1.0            16.0       1.0     0.0\n"
     ]
    }
   ],
   "source": [
    "preprocessor.fit(X_train[list_features])\n",
    "X_train_pipe = pd.DataFrame(preprocessor.transform(X_train[list_features]))\n",
    "X_train_pipe.columns = list_features\n",
    "print(X_train_pipe.head(2))\n",
    "\n",
    "\n",
    "# Now we perpetuate the pipeline into a Pickel.\n",
    "with open(\"feature_pipeline.pkl\", \"wb\") as file:\n",
    "    pickle.dump(preprocessor, file, -1)    \n"
   ]
  },
  {
   "cell_type": "markdown",
   "metadata": {},
   "source": [
    "#### Sanity Check:"
   ]
  },
  {
   "cell_type": "code",
   "execution_count": 26,
   "metadata": {},
   "outputs": [
    {
     "name": "stdout",
     "output_type": "stream",
     "text": [
      "reading pickel....\n",
      "   MCC  Merchant State  Use Chip  Amount\n",
      "0  1.0            10.0       2.0     9.0\n",
      "1  1.0            16.0       1.0     0.0\n"
     ]
    }
   ],
   "source": [
    "print('reading pickel....')\n",
    "with open(\"feature_pipeline.pkl\", \"rb\") as file:\n",
    "     preprocessor_test = pickle.load(file)\n",
    "\n",
    "X_train_pipe2 = pd.DataFrame(preprocessor_test.transform(X_train[list_features]))\n",
    "X_train_pipe2.columns = list_features\n",
    "print(X_train_pipe2.head(2))"
   ]
  },
  {
   "cell_type": "markdown",
   "metadata": {},
   "source": [
    "#### Transformamos toda la base de datos:"
   ]
  },
  {
   "cell_type": "code",
   "execution_count": 27,
   "metadata": {},
   "outputs": [
    {
     "data": {
      "text/html": [
       "<div>\n",
       "<style scoped>\n",
       "    .dataframe tbody tr th:only-of-type {\n",
       "        vertical-align: middle;\n",
       "    }\n",
       "\n",
       "    .dataframe tbody tr th {\n",
       "        vertical-align: top;\n",
       "    }\n",
       "\n",
       "    .dataframe thead th {\n",
       "        text-align: right;\n",
       "    }\n",
       "</style>\n",
       "<table border=\"1\" class=\"dataframe\">\n",
       "  <thead>\n",
       "    <tr style=\"text-align: right;\">\n",
       "      <th></th>\n",
       "      <th>MCC</th>\n",
       "      <th>Merchant State</th>\n",
       "      <th>Use Chip</th>\n",
       "      <th>Amount</th>\n",
       "    </tr>\n",
       "  </thead>\n",
       "  <tbody>\n",
       "    <tr>\n",
       "      <th>0</th>\n",
       "      <td>4.0</td>\n",
       "      <td>1.0</td>\n",
       "      <td>1.0</td>\n",
       "      <td>5.0</td>\n",
       "    </tr>\n",
       "    <tr>\n",
       "      <th>1</th>\n",
       "      <td>1.0</td>\n",
       "      <td>1.0</td>\n",
       "      <td>1.0</td>\n",
       "      <td>0.0</td>\n",
       "    </tr>\n",
       "    <tr>\n",
       "      <th>2</th>\n",
       "      <td>1.0</td>\n",
       "      <td>1.0</td>\n",
       "      <td>1.0</td>\n",
       "      <td>9.0</td>\n",
       "    </tr>\n",
       "  </tbody>\n",
       "</table>\n",
       "</div>"
      ],
      "text/plain": [
       "   MCC  Merchant State  Use Chip  Amount\n",
       "0  4.0             1.0       1.0     5.0\n",
       "1  1.0             1.0       1.0     0.0\n",
       "2  1.0             1.0       1.0     9.0"
      ]
     },
     "execution_count": 27,
     "metadata": {},
     "output_type": "execute_result"
    }
   ],
   "source": [
    "df_pipe = pd.DataFrame(preprocessor.transform(df[list_features]))\n",
    "df_pipe.columns = list_features\n",
    "df_pipe.head(3)"
   ]
  },
  {
   "cell_type": "code",
   "execution_count": 28,
   "metadata": {},
   "outputs": [
    {
     "data": {
      "text/html": [
       "<div>\n",
       "<style scoped>\n",
       "    .dataframe tbody tr th:only-of-type {\n",
       "        vertical-align: middle;\n",
       "    }\n",
       "\n",
       "    .dataframe tbody tr th {\n",
       "        vertical-align: top;\n",
       "    }\n",
       "\n",
       "    .dataframe thead th {\n",
       "        text-align: right;\n",
       "    }\n",
       "</style>\n",
       "<table border=\"1\" class=\"dataframe\">\n",
       "  <thead>\n",
       "    <tr style=\"text-align: right;\">\n",
       "      <th></th>\n",
       "      <th>MCC</th>\n",
       "      <th>Merchant State</th>\n",
       "      <th>Use Chip</th>\n",
       "      <th>Amount</th>\n",
       "    </tr>\n",
       "  </thead>\n",
       "  <tbody>\n",
       "    <tr>\n",
       "      <th>3895</th>\n",
       "      <td>5411</td>\n",
       "      <td>CA</td>\n",
       "      <td>Chip Transaction</td>\n",
       "      <td>34.99</td>\n",
       "    </tr>\n",
       "    <tr>\n",
       "      <th>3896</th>\n",
       "      <td>5499</td>\n",
       "      <td>CA</td>\n",
       "      <td>Chip Transaction</td>\n",
       "      <td>1.67</td>\n",
       "    </tr>\n",
       "    <tr>\n",
       "      <th>3897</th>\n",
       "      <td>4814</td>\n",
       "      <td>CA</td>\n",
       "      <td>Chip Transaction</td>\n",
       "      <td>208.96</td>\n",
       "    </tr>\n",
       "    <tr>\n",
       "      <th>3898</th>\n",
       "      <td>5300</td>\n",
       "      <td>CA</td>\n",
       "      <td>Chip Transaction</td>\n",
       "      <td>136.58</td>\n",
       "    </tr>\n",
       "    <tr>\n",
       "      <th>3899</th>\n",
       "      <td>5651</td>\n",
       "      <td>CA</td>\n",
       "      <td>Chip Transaction</td>\n",
       "      <td>128.64</td>\n",
       "    </tr>\n",
       "  </tbody>\n",
       "</table>\n",
       "</div>"
      ],
      "text/plain": [
       "       MCC Merchant State          Use Chip  Amount\n",
       "3895  5411             CA  Chip Transaction   34.99\n",
       "3896  5499             CA  Chip Transaction    1.67\n",
       "3897  4814             CA  Chip Transaction  208.96\n",
       "3898  5300             CA  Chip Transaction  136.58\n",
       "3899  5651             CA  Chip Transaction  128.64"
      ]
     },
     "execution_count": 28,
     "metadata": {},
     "output_type": "execute_result"
    }
   ],
   "source": [
    "df[list_features].head()"
   ]
  },
  {
   "cell_type": "code",
   "execution_count": 30,
   "metadata": {},
   "outputs": [
    {
     "data": {
      "text/html": [
       "<div>\n",
       "<style scoped>\n",
       "    .dataframe tbody tr th:only-of-type {\n",
       "        vertical-align: middle;\n",
       "    }\n",
       "\n",
       "    .dataframe tbody tr th {\n",
       "        vertical-align: top;\n",
       "    }\n",
       "\n",
       "    .dataframe thead th {\n",
       "        text-align: right;\n",
       "    }\n",
       "</style>\n",
       "<table border=\"1\" class=\"dataframe\">\n",
       "  <thead>\n",
       "    <tr style=\"text-align: right;\">\n",
       "      <th></th>\n",
       "      <th>Card</th>\n",
       "      <th>Year</th>\n",
       "      <th>Month</th>\n",
       "      <th>Amount</th>\n",
       "      <th>Use Chip</th>\n",
       "      <th>Merchant State</th>\n",
       "      <th>MCC</th>\n",
       "      <th>target</th>\n",
       "      <th>Date</th>\n",
       "      <th>MCC FE</th>\n",
       "      <th>Merchant State FE</th>\n",
       "      <th>Use Chip FE</th>\n",
       "      <th>Amount FE</th>\n",
       "    </tr>\n",
       "  </thead>\n",
       "  <tbody>\n",
       "    <tr>\n",
       "      <th>0</th>\n",
       "      <td>0</td>\n",
       "      <td>2015</td>\n",
       "      <td>1</td>\n",
       "      <td>34.99</td>\n",
       "      <td>Chip Transaction</td>\n",
       "      <td>CA</td>\n",
       "      <td>5411</td>\n",
       "      <td>0</td>\n",
       "      <td>2015-01-01</td>\n",
       "      <td>4.0</td>\n",
       "      <td>1.0</td>\n",
       "      <td>1.0</td>\n",
       "      <td>5.0</td>\n",
       "    </tr>\n",
       "    <tr>\n",
       "      <th>1</th>\n",
       "      <td>0</td>\n",
       "      <td>2015</td>\n",
       "      <td>1</td>\n",
       "      <td>1.67</td>\n",
       "      <td>Chip Transaction</td>\n",
       "      <td>CA</td>\n",
       "      <td>5499</td>\n",
       "      <td>0</td>\n",
       "      <td>2015-01-01</td>\n",
       "      <td>1.0</td>\n",
       "      <td>1.0</td>\n",
       "      <td>1.0</td>\n",
       "      <td>0.0</td>\n",
       "    </tr>\n",
       "    <tr>\n",
       "      <th>2</th>\n",
       "      <td>0</td>\n",
       "      <td>2015</td>\n",
       "      <td>1</td>\n",
       "      <td>208.96</td>\n",
       "      <td>Chip Transaction</td>\n",
       "      <td>CA</td>\n",
       "      <td>4814</td>\n",
       "      <td>0</td>\n",
       "      <td>2015-01-01</td>\n",
       "      <td>1.0</td>\n",
       "      <td>1.0</td>\n",
       "      <td>1.0</td>\n",
       "      <td>9.0</td>\n",
       "    </tr>\n",
       "  </tbody>\n",
       "</table>\n",
       "</div>"
      ],
      "text/plain": [
       "   Card  Year  Month  Amount          Use Chip Merchant State   MCC  target  \\\n",
       "0     0  2015      1   34.99  Chip Transaction             CA  5411       0   \n",
       "1     0  2015      1    1.67  Chip Transaction             CA  5499       0   \n",
       "2     0  2015      1  208.96  Chip Transaction             CA  4814       0   \n",
       "\n",
       "        Date  MCC FE  Merchant State FE  Use Chip FE  Amount FE  \n",
       "0 2015-01-01     4.0                1.0          1.0        5.0  \n",
       "1 2015-01-01     1.0                1.0          1.0        0.0  \n",
       "2 2015-01-01     1.0                1.0          1.0        9.0  "
      ]
     },
     "execution_count": 30,
     "metadata": {},
     "output_type": "execute_result"
    }
   ],
   "source": [
    "df_final = pd.concat([df.reset_index(drop=True), \n",
    "                      df_pipe.reset_index(drop=True)], \n",
    "                     axis = 1, ignore_index = True)\n",
    "\n",
    "\n",
    "df_final.columns = ['Card', 'Year', 'Month', 'Amount', 'Use Chip', 'Merchant State', 'MCC',\n",
    "       'target', 'Date', 'MCC FE', 'Merchant State FE', 'Use Chip FE', 'Amount FE']\n",
    "\n",
    "df_final.head(3)\n",
    "\n"
   ]
  },
  {
   "cell_type": "code",
   "execution_count": 31,
   "metadata": {},
   "outputs": [
    {
     "data": {
      "text/plain": [
       "['Card',\n",
       " 'Year',\n",
       " 'Month',\n",
       " 'Amount',\n",
       " 'Use Chip',\n",
       " 'Merchant State',\n",
       " 'MCC',\n",
       " 'target',\n",
       " 'Date',\n",
       " 'MCC FE',\n",
       " 'Merchant State FE',\n",
       " 'Use Chip FE',\n",
       " 'Amount FE']"
      ]
     },
     "execution_count": 31,
     "metadata": {},
     "output_type": "execute_result"
    }
   ],
   "source": [
    "df_final.columns.tolist()"
   ]
  },
  {
   "cell_type": "markdown",
   "metadata": {},
   "source": [
    "#### Salvamos la base de datos final, que será usada por los modelos que se aplican en el Jupyter Notebook - Model."
   ]
  },
  {
   "cell_type": "code",
   "execution_count": 32,
   "metadata": {},
   "outputs": [],
   "source": [
    "df_final[['Card', 'Amount FE', 'MCC FE', 'Merchant State FE', 'Use Chip FE', 'Date', 'target']].to_csv('/Users/mac/Desktop/DataScience/LANA/credit_card_transactions-ibm_v2_pipelined.csv', index = False)"
   ]
  },
  {
   "cell_type": "markdown",
   "metadata": {},
   "source": [
    "#### Test Kolmogorov-Smirnov.\n",
    "\n",
    "Este test estadístico no paramétrico se utiliza para cuantificar la capacidad discriminatoria de una variable respecto de dos poblaciones. En nuestro caso, población de alto y bajo riesgo de fraude. "
   ]
  },
  {
   "cell_type": "code",
   "execution_count": 34,
   "metadata": {
    "scrolled": true
   },
   "outputs": [
    {
     "data": {
      "text/html": [
       "<div>\n",
       "<style scoped>\n",
       "    .dataframe tbody tr th:only-of-type {\n",
       "        vertical-align: middle;\n",
       "    }\n",
       "\n",
       "    .dataframe tbody tr th {\n",
       "        vertical-align: top;\n",
       "    }\n",
       "\n",
       "    .dataframe thead th {\n",
       "        text-align: right;\n",
       "    }\n",
       "</style>\n",
       "<table border=\"1\" class=\"dataframe\">\n",
       "  <thead>\n",
       "    <tr style=\"text-align: right;\">\n",
       "      <th></th>\n",
       "      <th>Card</th>\n",
       "      <th>Amount FE</th>\n",
       "      <th>MCC FE</th>\n",
       "      <th>Merchant State FE</th>\n",
       "      <th>Use Chip FE</th>\n",
       "      <th>Date</th>\n",
       "      <th>target</th>\n",
       "    </tr>\n",
       "  </thead>\n",
       "  <tbody>\n",
       "    <tr>\n",
       "      <th>0</th>\n",
       "      <td>0</td>\n",
       "      <td>5.0</td>\n",
       "      <td>4.0</td>\n",
       "      <td>1.0</td>\n",
       "      <td>1.0</td>\n",
       "      <td>2015-01-01</td>\n",
       "      <td>0</td>\n",
       "    </tr>\n",
       "    <tr>\n",
       "      <th>1</th>\n",
       "      <td>0</td>\n",
       "      <td>0.0</td>\n",
       "      <td>1.0</td>\n",
       "      <td>1.0</td>\n",
       "      <td>1.0</td>\n",
       "      <td>2015-01-01</td>\n",
       "      <td>0</td>\n",
       "    </tr>\n",
       "    <tr>\n",
       "      <th>2</th>\n",
       "      <td>0</td>\n",
       "      <td>9.0</td>\n",
       "      <td>1.0</td>\n",
       "      <td>1.0</td>\n",
       "      <td>1.0</td>\n",
       "      <td>2015-01-01</td>\n",
       "      <td>0</td>\n",
       "    </tr>\n",
       "  </tbody>\n",
       "</table>\n",
       "</div>"
      ],
      "text/plain": [
       "   Card  Amount FE  MCC FE  Merchant State FE  Use Chip FE        Date  target\n",
       "0     0        5.0     4.0                1.0          1.0  2015-01-01       0\n",
       "1     0        0.0     1.0                1.0          1.0  2015-01-01       0\n",
       "2     0        9.0     1.0                1.0          1.0  2015-01-01       0"
      ]
     },
     "execution_count": 34,
     "metadata": {},
     "output_type": "execute_result"
    }
   ],
   "source": [
    "df_ini_ks = pd.read_csv('/Users/mac/Desktop/DataScience/LANA/credit_card_transactions-ibm_v2_pipelined.csv')\n",
    "df_ini_ks.head(3)"
   ]
  },
  {
   "cell_type": "code",
   "execution_count": 37,
   "metadata": {},
   "outputs": [
    {
     "data": {
      "text/html": [
       "<div>\n",
       "<style scoped>\n",
       "    .dataframe tbody tr th:only-of-type {\n",
       "        vertical-align: middle;\n",
       "    }\n",
       "\n",
       "    .dataframe tbody tr th {\n",
       "        vertical-align: top;\n",
       "    }\n",
       "\n",
       "    .dataframe thead th {\n",
       "        text-align: right;\n",
       "    }\n",
       "</style>\n",
       "<table border=\"1\" class=\"dataframe\">\n",
       "  <thead>\n",
       "    <tr style=\"text-align: right;\">\n",
       "      <th></th>\n",
       "      <th>KS</th>\n",
       "      <th>n</th>\n",
       "    </tr>\n",
       "  </thead>\n",
       "  <tbody>\n",
       "    <tr>\n",
       "      <th>Amount FE</th>\n",
       "      <td>0.293587</td>\n",
       "      <td>1</td>\n",
       "    </tr>\n",
       "    <tr>\n",
       "      <th>Use Chip FE</th>\n",
       "      <td>0.230927</td>\n",
       "      <td>2</td>\n",
       "    </tr>\n",
       "    <tr>\n",
       "      <th>MCC FE</th>\n",
       "      <td>0.197897</td>\n",
       "      <td>3</td>\n",
       "    </tr>\n",
       "    <tr>\n",
       "      <th>Merchant State FE</th>\n",
       "      <td>0.107748</td>\n",
       "      <td>4</td>\n",
       "    </tr>\n",
       "    <tr>\n",
       "      <th>Card</th>\n",
       "      <td>0.087561</td>\n",
       "      <td>5</td>\n",
       "    </tr>\n",
       "  </tbody>\n",
       "</table>\n",
       "</div>"
      ],
      "text/plain": [
       "                         KS  n\n",
       "Amount FE          0.293587  1\n",
       "Use Chip FE        0.230927  2\n",
       "MCC FE             0.197897  3\n",
       "Merchant State FE  0.107748  4\n",
       "Card               0.087561  5"
      ]
     },
     "execution_count": 37,
     "metadata": {},
     "output_type": "execute_result"
    }
   ],
   "source": [
    "all_features = ['Card', 'Amount FE', 'MCC FE', 'Merchant State FE', 'Use Chip FE']\n",
    "\n",
    "#  'Zip_Clusters'\n",
    "n_features = len(all_features)\n",
    "ks = np.zeros(n_features)\n",
    "\n",
    "for i in range (0,  n_features):\n",
    "\n",
    "    feature = all_features[i]\n",
    "    dist1 = df_ini_ks['{}'.format(feature)].loc[df_ini_ks['{}'.format('target')] == 1]\n",
    "    dist2 = df_ini_ks['{}'.format(feature)].loc[df_ini_ks['{}'.format('target')] == 0]  \n",
    "    ks[i] = stats.ks_2samp(dist1, dist2)[0]\n",
    "    df_ks = pd.DataFrame(data={\"KS\": ks}, index=all_features)\n",
    "    \n",
    "df_ks = df_ks.sort_values(by=['KS'],ascending=False)\n",
    "df_ks[\"n\"] = np.arange(n_features)+1\n",
    "\n",
    "df_ks.head(100)"
   ]
  },
  {
   "cell_type": "markdown",
   "metadata": {},
   "source": [
    "#### Resultado:\n",
    "+ Se observa que las variables con mayor poder discriminatorio entre poblaciones (alto KS) serían \"Amount FE\" y \"Use Chip FE\"\n",
    "+ Como se verá durante el entrenamiento del modelo de fraude, estas dos variables también resultan ser las más importantes para el modelo. "
   ]
  },
  {
   "cell_type": "code",
   "execution_count": null,
   "metadata": {},
   "outputs": [],
   "source": []
  }
 ],
 "metadata": {
  "kernelspec": {
   "display_name": "Python 3",
   "language": "python",
   "name": "python3"
  },
  "language_info": {
   "codemirror_mode": {
    "name": "ipython",
    "version": 3
   },
   "file_extension": ".py",
   "mimetype": "text/x-python",
   "name": "python",
   "nbconvert_exporter": "python",
   "pygments_lexer": "ipython3",
   "version": "3.7.6"
  }
 },
 "nbformat": 4,
 "nbformat_minor": 4
}
